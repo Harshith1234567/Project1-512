{
 "cells": [
  {
   "cell_type": "code",
   "execution_count": 21,
   "id": "9a2b9eb3",
   "metadata": {},
   "outputs": [],
   "source": [
    "import numpy as np\n",
    "import random \n",
    "import copy"
   ]
  },
  {
   "cell_type": "code",
   "execution_count": 2,
   "id": "7f977ba1",
   "metadata": {},
   "outputs": [],
   "source": [
    "def checkForOutOfBound(x,y,row,col):\n",
    "    if x>=row or x<0 or y<0 or y>=col:\n",
    "        return True\n",
    "    return False\n",
    "        "
   ]
  },
  {
   "cell_type": "code",
   "execution_count": 3,
   "id": "6067cc21",
   "metadata": {},
   "outputs": [],
   "source": [
    "def matrixUpdate(grid,randRow,randCol,row,column):\n",
    "    moves=np.array([[0,1],[1,0],[0,-1],[-1,0]])\n",
    "    for move in moves:\n",
    "        neighbourRow = randRow+move[0]\n",
    "        neighbourCol = randCol+move[1]\n",
    "        res = checkForOutOfBound(neighbourRow,neighbourCol,row,column)\n",
    "        if res == False and not np.isnan(grid[neighbourRow,neighbourCol]) :\n",
    "            grid[neighbourRow,neighbourCol] +=1 "
   ]
  },
  {
   "cell_type": "code",
   "execution_count": 5,
   "id": "7af5100c",
   "metadata": {},
   "outputs": [],
   "source": [
    "row = 5\n",
    "column = 5\n",
    "grid = np.zeros([row,column], dtype = float)"
   ]
  },
  {
   "cell_type": "code",
   "execution_count": 6,
   "id": "4f748998",
   "metadata": {},
   "outputs": [
    {
     "data": {
      "text/plain": [
       "array([[0., 0., 0., 0., 0.],\n",
       "       [0., 0., 0., 0., 0.],\n",
       "       [0., 0., 0., 0., 0.],\n",
       "       [0., 0., 0., 0., 0.],\n",
       "       [0., 0., 0., 0., 0.]])"
      ]
     },
     "execution_count": 6,
     "metadata": {},
     "output_type": "execute_result"
    }
   ],
   "source": [
    "grid"
   ]
  },
  {
   "cell_type": "code",
   "execution_count": 7,
   "id": "a56c8657",
   "metadata": {},
   "outputs": [
    {
     "data": {
      "text/plain": [
       "array([[ 0.,  0.,  0.,  0.,  0.],\n",
       "       [ 0.,  0.,  0.,  0.,  0.],\n",
       "       [ 0.,  1.,  0.,  0.,  0.],\n",
       "       [ 1., nan,  1.,  0.,  0.],\n",
       "       [ 0.,  1.,  0.,  0.,  0.]])"
      ]
     },
     "execution_count": 7,
     "metadata": {},
     "output_type": "execute_result"
    }
   ],
   "source": [
    "randRow = random.randint(1, row-2)\n",
    "randCol = random.randint(1, column-2)\n",
    "grid[randRow,randCol]=np.nan\n",
    "matrixUpdate(grid,randRow,randCol,row,column)\n",
    "grid"
   ]
  },
  {
   "cell_type": "code",
   "execution_count": 8,
   "id": "60b6a663",
   "metadata": {},
   "outputs": [
    {
     "name": "stdout",
     "output_type": "stream",
     "text": [
      "0\n",
      "printing random 0 2\n",
      "printing random 2 0\n",
      "printing random 0 4\n",
      "printing random 2 3\n",
      "printing random 4 2\n",
      "printing random 0 0\n",
      "printing random 3 1\n",
      "printing random 4 3\n",
      "printing random 4 1\n",
      "1\n",
      "printing random 3 3\n",
      "printing random 1 2\n",
      "printing random 1 4\n",
      "printing random 3 1\n",
      "printing random 1 2\n",
      "printing random 2 3\n",
      "printing random 1 3\n",
      "printing random 4 0\n",
      "2\n",
      "printing random 3 3\n",
      "printing random 4 1\n",
      "printing random 4 2\n",
      "3\n",
      "printing random 2 0\n",
      "printing random 0 0\n",
      "printing random 1 1\n",
      "printing random 3 1\n",
      "printing random 3 4\n",
      "printing random 2 0\n",
      "printing random 0 0\n",
      "printing random 0 4\n",
      "printing random 2 0\n",
      "printing random 2 0\n",
      "printing random 0 3\n",
      "printing random 1 3\n",
      "printing random 2 3\n",
      "printing random 2 0\n",
      "printing random 4 2\n",
      "printing random 1 4\n",
      "printing random 3 0\n",
      "printing random 2 3\n",
      "printing random 3 4\n",
      "printing random 4 4\n",
      "printing random 2 2\n",
      "printing random 0 2\n",
      "printing random 1 4\n",
      "printing random 3 1\n",
      "printing random 1 3\n",
      "printing random 1 3\n",
      "printing random 4 1\n",
      "printing random 2 0\n",
      "printing random 2 2\n",
      "printing random 1 2\n",
      "printing random 4 4\n",
      "printing random 4 0\n",
      "printing random 3 4\n",
      "printing random 0 0\n",
      "printing random 3 4\n",
      "printing random 1 3\n",
      "printing random 1 1\n",
      "printing random 1 2\n",
      "printing random 0 1\n",
      "printing random 2 1\n",
      "4\n",
      "printing random 1 2\n",
      "printing random 3 0\n",
      "printing random 0 3\n",
      "printing random 2 2\n",
      "5\n",
      "printing random 1 3\n",
      "printing random 1 1\n",
      "6\n",
      "printing random 3 1\n",
      "printing random 1 4\n",
      "printing random 2 0\n",
      "7\n",
      "printing random 1 0\n",
      "printing random 3 0\n",
      "printing random 0 0\n",
      "printing random 3 4\n",
      "printing random 2 0\n",
      "printing random 2 3\n",
      "8\n",
      "printing random 2 0\n",
      "printing random 1 3\n",
      "9\n",
      "printing random 3 2\n",
      "printing random 2 2\n",
      "printing random 3 2\n",
      "printing random 3 4\n",
      "printing random 2 2\n",
      "printing random 4 1\n",
      "printing random 0 3\n",
      "10\n",
      "printing random 4 4\n",
      "printing random 1 1\n",
      "printing random 2 4\n",
      "11\n",
      "printing random 3 2\n",
      "printing random 4 3\n"
     ]
    },
    {
     "data": {
      "text/plain": [
       "array([[ 0.,  1.,  1., nan,  1.],\n",
       "       [ 2., nan,  3., nan,  2.],\n",
       "       [nan, nan, nan, nan, nan],\n",
       "       [ 3., nan,  3.,  2.,  1.],\n",
       "       [nan, nan, nan, nan,  1.]])"
      ]
     },
     "execution_count": 8,
     "metadata": {},
     "output_type": "execute_result"
    }
   ],
   "source": [
    "for i in range((row*column)//2):\n",
    "    loop=0\n",
    "    print(i)\n",
    "    while loop<100:\n",
    "        loop +=1\n",
    "        randRow = random.randint(0, row-1)\n",
    "        randCol = random.randint(0, column-1)\n",
    "        print(\"printing random\",randRow,randCol)\n",
    "        if not np.isnan(grid[randRow,randCol]) and grid[randRow,randCol]==float(1):\n",
    "            grid[randRow,randCol]=np.nan\n",
    "            matrixUpdate(grid,randRow,randCol,row,column)  \n",
    "            break\n",
    "    \n",
    "grid"
   ]
  },
  {
   "cell_type": "code",
   "execution_count": 9,
   "id": "adaea258",
   "metadata": {},
   "outputs": [
    {
     "data": {
      "text/plain": [
       "array([[1, 1, 1, 0, 1],\n",
       "       [1, 0, 1, 0, 1],\n",
       "       [0, 0, 0, 0, 0],\n",
       "       [1, 0, 1, 1, 1],\n",
       "       [0, 0, 0, 0, 1]])"
      ]
     },
     "execution_count": 9,
     "metadata": {},
     "output_type": "execute_result"
    }
   ],
   "source": [
    "intGrid = np.ones([row,column], dtype = int)\n",
    "for r in range(row):\n",
    "    for c in range(column):\n",
    "        if np.isnan(grid[r,c]):\n",
    "            intGrid[r,c]=0\n",
    "intGrid    "
   ]
  },
  {
   "cell_type": "code",
   "execution_count": null,
   "id": "002b4418",
   "metadata": {},
   "outputs": [],
   "source": []
  },
  {
   "cell_type": "code",
   "execution_count": 10,
   "id": "f402fa90",
   "metadata": {},
   "outputs": [],
   "source": [
    "# openSpaces = np.empty(2,int)\n",
    "# global openSpaces\n",
    "\n",
    "# for r in range(row):\n",
    "#     for c in range(column):\n",
    "#         if intGrid[r,c] == 0:\n",
    "#             ope=np.array([r,c])\n",
    "#             openSpaces = np.vstack((openSpaces,ope))\n",
    "\n",
    "# openSpaces = np.delete(openSpaces, 0, axis=0)\n",
    "# openSpaces.shape\n",
    "# openSpaces"
   ]
  },
  {
   "cell_type": "code",
   "execution_count": 11,
   "id": "49a8b8aa",
   "metadata": {},
   "outputs": [],
   "source": [
    "# openSpaces.shape"
   ]
  },
  {
   "cell_type": "code",
   "execution_count": 12,
   "id": "1706cf9c",
   "metadata": {},
   "outputs": [],
   "source": [
    "# k=openSpaces.shape[0]\n",
    "# k"
   ]
  },
  {
   "cell_type": "code",
   "execution_count": 13,
   "id": "e1428472",
   "metadata": {},
   "outputs": [
    {
     "data": {
      "text/plain": [
       "[[0, 3],\n",
       " [1, 1],\n",
       " [1, 3],\n",
       " [2, 0],\n",
       " [2, 1],\n",
       " [2, 2],\n",
       " [2, 3],\n",
       " [2, 4],\n",
       " [3, 1],\n",
       " [4, 0],\n",
       " [4, 1],\n",
       " [4, 2],\n",
       " [4, 3]]"
      ]
     },
     "execution_count": 13,
     "metadata": {},
     "output_type": "execute_result"
    }
   ],
   "source": [
    "openSpaces = []\n",
    "\n",
    "\n",
    "for r in range(row):\n",
    "    for c in range(column):\n",
    "        if intGrid[r,c] == 0:\n",
    "            \n",
    "            openSpaces.append([r,c])\n",
    "            \n",
    "openSpaces"
   ]
  },
  {
   "cell_type": "code",
   "execution_count": null,
   "id": "b7819e1e",
   "metadata": {},
   "outputs": [],
   "source": []
  },
  {
   "cell_type": "code",
   "execution_count": 22,
   "id": "fc798e80",
   "metadata": {},
   "outputs": [],
   "source": [
    "def moveAlien(grid,openSpaces,aliens,row,column):\n",
    "    moves=[[0,1],[1,0],[0,-1],[-1,0]]\n",
    "    aliensCopy=copy.deepcopy(aliens)\n",
    "    for alien in aliensCopy:\n",
    "        print(alien)\n",
    "        move=random.sample(moves,4)\n",
    "        for move in moves:\n",
    "            neighbourRow = alien[0]+move[0]\n",
    "            neighbourCol = alien[1]+move[1]\n",
    "            res = checkForOutOfBound(neighbourRow,neighbourCol,row,column)\n",
    "            if [neighbourRow,neighbourCol] not in aliens and res == False and [neighbourRow,neighbourCol] in openSpaces:\n",
    "                aliens.remove(alien)\n",
    "                aliens.append([neighbourRow,neighbourCol])\n",
    "                break\n",
    "            \n",
    "            "
   ]
  },
  {
   "cell_type": "code",
   "execution_count": 23,
   "id": "8977efeb",
   "metadata": {},
   "outputs": [
    {
     "name": "stdout",
     "output_type": "stream",
     "text": [
      "11\n",
      "[[1, 3], [2, 2], [0, 3], [4, 2], [2, 1], [4, 0], [4, 3], [4, 1], [2, 4], [2, 3], [1, 1]]\n",
      "gh\n",
      "[1, 3]\n",
      "[2, 2]\n",
      "[0, 3]\n",
      "[4, 2]\n",
      "[2, 1]\n",
      "[4, 0]\n",
      "[4, 3]\n",
      "[4, 1]\n",
      "[2, 4]\n",
      "[2, 3]\n",
      "[1, 1]\n",
      "10\n",
      "[[4, 1], [1, 1], [1, 3], [3, 1], [4, 0], [2, 1], [0, 3], [2, 4], [2, 0], [4, 3]]\n",
      "gh\n",
      "[4, 1]\n",
      "[1, 1]\n",
      "[1, 3]\n",
      "[3, 1]\n",
      "[4, 0]\n",
      "[2, 1]\n",
      "[0, 3]\n",
      "[2, 4]\n",
      "[2, 0]\n",
      "[4, 3]\n",
      "9\n",
      "[[4, 2], [2, 0], [1, 3], [4, 3], [3, 1], [2, 1], [4, 1], [0, 3], [2, 2]]\n",
      "gh\n",
      "[4, 2]\n",
      "[2, 0]\n",
      "[1, 3]\n",
      "[4, 3]\n",
      "[3, 1]\n",
      "[2, 1]\n",
      "[4, 1]\n",
      "[0, 3]\n",
      "[2, 2]\n",
      "8\n",
      "[[2, 3], [4, 2], [2, 1], [4, 1], [2, 2], [2, 0], [3, 1], [1, 3]]\n",
      "gh\n",
      "[2, 3]\n",
      "[4, 2]\n",
      "[2, 1]\n",
      "[4, 1]\n",
      "[2, 2]\n",
      "[2, 0]\n",
      "[3, 1]\n",
      "[1, 3]\n",
      "7\n",
      "[[1, 3], [0, 3], [2, 3], [3, 1], [1, 1], [2, 2], [2, 4]]\n",
      "gh\n",
      "[1, 3]\n",
      "[0, 3]\n",
      "[2, 3]\n",
      "[3, 1]\n",
      "[1, 1]\n",
      "[2, 2]\n",
      "[2, 4]\n",
      "6\n",
      "[[2, 3], [1, 3], [0, 3], [4, 1], [3, 1], [1, 1]]\n",
      "gh\n",
      "[2, 3]\n",
      "[1, 3]\n",
      "[0, 3]\n",
      "[4, 1]\n",
      "[3, 1]\n",
      "[1, 1]\n",
      "5\n",
      "[[2, 4], [0, 3], [1, 3], [3, 1], [2, 1]]\n",
      "gh\n",
      "[2, 4]\n",
      "[0, 3]\n",
      "[1, 3]\n",
      "[3, 1]\n",
      "[2, 1]\n",
      "4\n",
      "[[2, 0], [1, 3], [4, 1], [0, 3]]\n",
      "gh\n",
      "[2, 0]\n",
      "[1, 3]\n",
      "[4, 1]\n",
      "[0, 3]\n",
      "3\n",
      "[[2, 0], [3, 1], [2, 4]]\n",
      "gh\n",
      "[2, 0]\n",
      "[3, 1]\n",
      "[2, 4]\n",
      "2\n",
      "[[4, 0], [2, 4]]\n",
      "gh\n",
      "[4, 0]\n",
      "[2, 4]\n",
      "1\n",
      "[[2, 0]]\n",
      "gh\n",
      "[2, 0]\n"
     ]
    }
   ],
   "source": [
    "k=len(openSpaces)-2\n",
    "while k>0:\n",
    "    \n",
    "    #aliens =np.random.choice(prog_langs, size=8)\n",
    "#     print(np.random.choice(openSpaces, size=k))\n",
    "    print(k)\n",
    "    aliens=random.sample(openSpaces,k)\n",
    "    \n",
    "    print(aliens)\n",
    "    print(\"gh\")\n",
    "    \n",
    "    moveAlien(intGrid,openSpaces,aliens,row,column)\n",
    "    \n",
    "    \n",
    "    k=k-1\n",
    "#openSpaces"
   ]
  },
  {
   "cell_type": "code",
   "execution_count": null,
   "id": "3d027433",
   "metadata": {},
   "outputs": [],
   "source": [
    "print(len(openSpaces))"
   ]
  },
  {
   "cell_type": "code",
   "execution_count": null,
   "id": "54909ed3",
   "metadata": {},
   "outputs": [],
   "source": []
  }
 ],
 "metadata": {
  "kernelspec": {
   "display_name": "Python 3 (ipykernel)",
   "language": "python",
   "name": "python3"
  },
  "language_info": {
   "codemirror_mode": {
    "name": "ipython",
    "version": 3
   },
   "file_extension": ".py",
   "mimetype": "text/x-python",
   "name": "python",
   "nbconvert_exporter": "python",
   "pygments_lexer": "ipython3",
   "version": "3.8.18"
  }
 },
 "nbformat": 4,
 "nbformat_minor": 5
}
